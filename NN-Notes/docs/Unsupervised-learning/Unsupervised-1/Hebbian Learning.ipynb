{
 "cells": [
  {
   "cell_type": "markdown",
   "metadata": {},
   "source": [
    "## Hebbian Learning\n",
    "According to this learning rule if the output and input are co-related (i.e., if both are increasing or both are decreasing) only then the weights update else they does not. The weight update rule according to hebbian rule is as follows\n",
    "\n",
    "$w_{ij}(t+1) = w_{ij}(t)+\\eta . y_j(t).x_i(t)$\n",
    "\n",
    "After training, the weight vector aligns itself in the direction in which x,y are maximally co-related. It is sort of NN version of Principal Component Analysis.\n",
    "\n",
    "It is mainly used for orientation selectivitiy of Single Hebbian Neuron.\n",
    "\n",
    "Below illustration helps us understand the way in which weight vector aligns itself in the direction of maximum co-relation.\n",
    "<img src=\"./Gifs/hebbian2.gif\" height=\"500\" width=\"500\"/>\n"
   ]
  },
  {
   "cell_type": "markdown",
   "metadata": {},
   "source": [
    "### Disadvantage:\n",
    "The main disadvantage of Hebbian rule is that it keeps on updating the weights which grow large and become insensitive to any changes in input. To overcome this disadvantage we use OJA's weight updtae rule which adds a regularization term to the weight update eqaution \n",
    "$\\Delta w_i = \\eta(x_i.y-y^2.w_i)$\n"
   ]
  }
 ],
 "metadata": {
  "kernelspec": {
   "display_name": "Python 3",
   "language": "python",
   "name": "python3"
  },
  "language_info": {
   "codemirror_mode": {
    "name": "ipython",
    "version": 3
   },
   "file_extension": ".py",
   "mimetype": "text/x-python",
   "name": "python",
   "nbconvert_exporter": "python",
   "pygments_lexer": "ipython3",
   "version": "3.6.5"
  }
 },
 "nbformat": 4,
 "nbformat_minor": 2
}
