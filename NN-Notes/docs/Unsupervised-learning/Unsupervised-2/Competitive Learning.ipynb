{
 "cells": [
  {
   "cell_type": "markdown",
   "metadata": {},
   "source": [
    "## Competitive Learning\n",
    "\n",
    "It works on the concept of <b>Winner takes all</b>. It is mainly used in <b>Clustering</b>\n",
    "\n",
    "The weight update rule in Competitive learning is as follows:\n",
    "\n",
    "$\\Delta w_{ij} =\n",
    "  \\begin{cases}\n",
    "    \\eta(x_j^{\\mu}-w_{i^*j})      & ,i=i^* \\\\\n",
    "    0  & ,i\\neq i\n",
    "  \\end{cases}\n",
    "$\n",
    "\n",
    "where $i^*$ is the winner, which means that the distance between a particular a particular input pattern $x_j^{\\mu}$ and the weight vector $w_{i^*j}$ is minimum. Hence only this winner weight vector is updated and the rest of the weight vectors are not updated.\n",
    "\n",
    "Below are the steps performed competitive learning:\n",
    "<ol>\n",
    "    <li>Perform dot product of all the weight vectors with one input pattern.</li>\n",
    "    <li>If the weight vector is closer to the input pattern then it gives bigger dot product value.</li>\n",
    "    <li>This winning weight vector is updtaed according to the above mentioned rule and it comes closer to the input pattern.</li>\n",
    "</ol>\n",
    "\n",
    "After following the above steps for some time the weights settle inbetween the inputs and the difference $(x_j^{\\mu}-w_{i^*j}) $ becomes very small and hence the weight update is neglected.\n",
    "\n",
    "Below illustration shows the weight update based on competitive learning.\n",
    "<img src=\"./Gifs/competitive2.gif\" height=\"500\" width=\"500\"/>\n",
    "\n"
   ]
  },
  {
   "cell_type": "markdown",
   "metadata": {},
   "source": [
    "### Improvised Competitive Learning:\n",
    "We observe that the traditional competive learning does specialised training on a particular weight vector. Instead the loser weight vectors can also be updated. The intensity of training will be based on how far the point is from winner weight vector."
   ]
  }
 ],
 "metadata": {
  "kernelspec": {
   "display_name": "Python 3",
   "language": "python",
   "name": "python3"
  },
  "language_info": {
   "codemirror_mode": {
    "name": "ipython",
    "version": 3
   },
   "file_extension": ".py",
   "mimetype": "text/x-python",
   "name": "python",
   "nbconvert_exporter": "python",
   "pygments_lexer": "ipython3",
   "version": "3.6.5"
  }
 },
 "nbformat": 4,
 "nbformat_minor": 2
}
