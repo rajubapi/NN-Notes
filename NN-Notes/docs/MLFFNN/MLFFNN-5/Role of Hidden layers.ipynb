{
 "cells": [
  {
   "cell_type": "markdown",
   "metadata": {},
   "source": [
    "### Role of hidden layer\n",
    "\n",
    "The hidden layer projects the inputs into a space where we can find a linear seperation. Any continuous function can be represented or approximated by many number of nodes in the hidden layer. Now let us try to create a neural network architecture for the below example.\n",
    "\n",
    "The neural network has to detect if the point is located in the traingular region or not.\n",
    "<br/>\n",
    "<img src=\"Images/triangular.png\" height=\"400\" width=\"400\"/>\n",
    "<ul>\n",
    "    <li>It can be clearly observed that the data set is **NOT** Linearly seperable.</li>\n",
    "    <li>The number of inputs is 2 (because it is 2 dimensional).</li>\n",
    "    <li>The number of hidden units required in the hidden layer is 3 because, we know that each hidden unit represents a line and as, in the given example the neural network has to distinguish between the points present inside and ouside of the triangular (3 edges) region  we require 3 hidden nodes.</li>\n",
    "\n",
    "</ul>\n",
    " \n",
    " \n",
    "If the point falls inside the triangular region then the neural network should return the value 1 else it should return 0.\n",
    "#### Line I:\n",
    "1. If point is **above** Line I then it can be represented as **1**\n",
    "2. If point is **below** Line I then it can be represented as **0**\n",
    "\n",
    "#### Line II:\n",
    "1. If point is **left** Line II then it can be represented as **1**\n",
    "2. If point is **right** Line II then it can be represented as **0**\n",
    "\n",
    "#### Line III:\n",
    "1. If point is **right** Line III then it can be represented as **1**\n",
    "2. If point is **left** Line III then it can be represented as **0**\n",
    "\n",
    "If the combination of line I,II,III is **111** then we can say that the point lies in the traingular region.\n",
    "The above problem can be realised as the below neural network.\n",
    "\n",
    "<img src=\"Images/network1.png\" height=\"400\" width=\"400\"/>\n",
    "\n",
    "\n",
    "Similarly, now let us consider the below example in which the output of the neural network should be 1 if the data point lies in either of the two regions.\n",
    "\n",
    "<img src=\"Images/triangular2.png\" height=\"400\" width=\"400\"/>\n",
    "\n",
    "In this case as there are 6 lines we require 6 hidden  nodes to represent each one of them. And also we need one mode hidden layer in order to implement **OR** gate.\n",
    "<img src=\"Images/network2.png\" height=\"400\" width=\"400\"/>\n",
    "The 1st hidden layer implements 2 **AND** gates and the 2nd hidden layer implements **OR** gate."
   ]
  }
 ],
 "metadata": {
  "kernelspec": {
   "display_name": "Python 3",
   "language": "python",
   "name": "python3"
  },
  "language_info": {
   "codemirror_mode": {
    "name": "ipython",
    "version": 3
   },
   "file_extension": ".py",
   "mimetype": "text/x-python",
   "name": "python",
   "nbconvert_exporter": "python",
   "pygments_lexer": "ipython3",
   "version": "3.6.5"
  }
 },
 "nbformat": 4,
 "nbformat_minor": 2
}
