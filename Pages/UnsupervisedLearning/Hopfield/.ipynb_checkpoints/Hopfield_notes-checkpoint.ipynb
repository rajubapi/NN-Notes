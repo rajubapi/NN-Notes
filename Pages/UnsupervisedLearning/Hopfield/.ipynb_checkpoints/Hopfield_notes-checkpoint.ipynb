{
 "cells": [
  {
   "cell_type": "markdown",
   "metadata": {},
   "source": [
    "# Hopfield Neural Network\n",
    "\n",
    "A Hopfield neural network is a type of artificial neural network invented by John Hopfield in 1982.\n",
    "It usually works by first learning a number of binary patterns and then returning the one that is the most similar to a given input. It consists of a single layer which contains one or more fully connected recurrent neurons. The Hopfield network is commonly used for auto-association and optimization tasks.\n",
    "\n",
    "Hopfield neural network with four nodes:\n",
    "\n",
    "<img src=\"NN1.png\" style=\"width:200px;height:200px\"/>\n",
    "\n",
    "### Training Algorithm\n",
    "\n",
    "\n",
    "During training of Hopfield network, weights will be updated. As we know that we can have the binary input vectors as well as bipolar input vectors. Hence, in both the cases, weight updates can be done with the following relation:\n",
    "\n",
    "\n",
    "#### Case 1- Binary input patterns\n",
    "\n",
    "For a set of binary patterns s(p), p = 1 to P\n",
    "\n",
    "Here, $s(p) = s_1(p), s_2(p),....., s_i(p),.....,s_n(p)$\n",
    "\n",
    "Weight Matrix is given by:\n",
    "\n",
    "$$ w_{ij}=\\ \\displaystyle \\sum_{p=1}^{P}[2s_i(p)-1][2s_j(p)-1] \\ \\ \\ \\ \\ for\\  i  \\ne  j$$\n",
    "\n",
    "\n",
    "\n",
    "\n",
    "#### Case 2- Bipolar input patterns\n",
    "\n",
    "For a set of binary patterns s(p), p = 1 to P\n",
    "\n",
    "$Here, s(p) = s_1(p), s_2(p),..., s_i(p),..., s_n(p)$\n",
    "\n",
    "Weight Matrix is given by:\n",
    "\n",
    "$$ w_{ij}=\\  \\displaystyle \\sum_{p=1}^{P}[s_i(p)][s_j(p)] \\ \\ \\ \\ \\    for\\ i  \\ne  j$$\n",
    "\n",
    "### Testing Algorithm\n",
    "\n",
    "Step 1 − Initialize the weights, which are obtained from training algorithm by using Hebbian principle.\n",
    "\n",
    "\n"
   ]
  },
  {
   "cell_type": "code",
   "execution_count": null,
   "metadata": {},
   "outputs": [],
   "source": [
    "# Hebb rule\n",
    "        for i in tqdm(range(num_data)):\n",
    "        t = train_data[i] - rho\n",
    "        W += np.outer(t, t)"
   ]
  },
  {
   "cell_type": "markdown",
   "metadata": {},
   "source": [
    "Step 2 − Perform steps 3-9, if the activations of the network is not consolidated.\n",
    "\n",
    "Step 3 − For each input vector X, perform steps 4-8.\n",
    "\n",
    "Step 4 − Make initial activation of the network equal to the external input vector X as follows −\n",
    "$y_i=x_i$   for i=1 to n\n",
    "\n",
    "Step 5 − For each unit $Y_i$, perform steps 6-9.\n",
    "\n",
    "Step 6 − Calculate the net input of the network as follows –\n",
    "\n",
    "$$ y_{ini}=\\  x_i + \\displaystyle \\sum_{j}y_iw_{ji} $$\n",
    "\n",
    "Step 7 − Apply the activation as follows over the net input to calculate the output –\n",
    "\n",
    "$ y_i = 1 \\ \\ \\ \\   if\\ \\   y_{ini} > \\theta_i $\n",
    "\n",
    "$ y_i = y_i \\ \\ \\ \\ if\\ \\  y_{ini} = \\theta_i $\n",
    "\n",
    "$ y_i = 0 \\ \\ \\ \\   if\\ \\  y_{ini} < \\theta_i $\n",
    "\n",
    "Here $\\theta_i$ is the threshold.\n",
    "\n",
    "Step 8 − Broadcast this output $y_i$ to all other units.\n",
    "\n",
    "Step 9 − Test the network for conjunction.\n",
    "\n",
    "\n",
    "### Energy Function Evaluation\n",
    "An energy function is defined as a function that is bonded and non-increasing function of the state of the system.\n",
    "Energy function $E_f$, also called Lyapunov function determines the stability of discrete Hopfield network, and is characterized as follows –\n",
    "\n",
    "$$ E_f=\\ -\\frac{1}{2} \\displaystyle \\sum_{i=1}^{n}\\displaystyle \\sum_{j=1}^{n}y_iy_jw_{ij} \\ - \\displaystyle \\sum_{i=1}^{n}x_iy_i \\ + \\ \\displaystyle \\sum_{i=1}^{n}\\theta_iy_i $$\n",
    "\n"
   ]
  },
  {
   "cell_type": "code",
   "execution_count": null,
   "metadata": {},
   "outputs": [],
   "source": [
    "# Create Hopfield Network Model\n",
    "    model = network.HopfieldNetwork()\n",
    "    model.train_weights(data)\n",
    "\n",
    "# Generate testset\n",
    "    test = [get_corrupted_input(d, 0.3) for d in data]\n",
    "    predicted = model.predict(test, threshold=0, asyn=False)\n",
    "    print(\"Show prediction results...\")\n",
    "    plot(data, test, predicted)"
   ]
  },
  {
   "cell_type": "markdown",
   "metadata": {},
   "source": [
    "<img src=\"img2.png\" style=\"width:380px;height:400px\"/>"
   ]
  },
  {
   "cell_type": "code",
   "execution_count": null,
   "metadata": {},
   "outputs": [],
   "source": [
    " def plot_weights(self):\n",
    "        plt.figure(figsize=(6, 5))\n",
    "        w_mat = plt.imshow(self.W, cmap=cm.coolwarm)\n",
    "        plt.colorbar(w_mat)\n",
    "        plt.title(\"Network Weights\")\n",
    "        plt.tight_layout()\n",
    "        plt.savefig(\"weights.png\")\n",
    "        plt.show()\n",
    "        print(\"Show network weights matrix...\")\n",
    "        model.plot_weights()"
   ]
  },
  {
   "cell_type": "markdown",
   "metadata": {},
   "source": [
    "<img src=\"weights.png\" style=\"width:400px;height:300px\"/>"
   ]
  },
  {
   "cell_type": "markdown",
   "metadata": {},
   "source": [
    "### Continuous Hopfield Network\n",
    "In comparison with discrete Hopfield network, continuous network has time as a continuous variable. It is also used in auto association and optimization problems such as travelling salesman problem.\n",
    "\n",
    "Model − The model or architecture can be build up by adding electrical components such as amplifiers which can map the input voltage to the output voltage over a sigmoid activation function.\n",
    "\n",
    "### Travelling Salesman Problem\n",
    "Finding the shortest route travelled by the salesman is one of the computational problems, which can be optimized by using Hopfield neural network.\n",
    "\n",
    "\n",
    "###### Energy Function Calculation\n",
    "To be the optimized solution, the energy function must be minimum.On the basis of the cost function and constraint value, the energy function E can be given as follows −\n",
    "\n",
    "$$ E=\\ -\\frac{1}{2} \\displaystyle \\sum_{i=1}^{n}\\displaystyle \\sum_{x}\\displaystyle \\sum_{y \\ne x}C_{x,y}M_{x,i}(M_{y,i+1} \n",
    "+ M_{y,i-1}) + [Y_1\\displaystyle \\sum_{x}(1-\\displaystyle \\sum_{i}M_{x,i})^2 + Y_2\\displaystyle \\sum_{i}(1-\\displaystyle \\sum_{x}M_{x,i})^2]$$\n",
    "\n",
    "Here, $    Y_1   and    Y_2$ are two weighing constants.\n"
   ]
  },
  {
   "cell_type": "markdown",
   "metadata": {},
   "source": [
    "### N-queen problem\n",
    "The N Queen is the problem of placing N chess queens on an N×N chessboard so that no two queens attack each other.\n",
    "The expected output is a binary matrix which has 1s for the blocks where queens are placed. For example, following is the output matrix for 4 queen solution.\n",
    "\n",
    "<img src=\"matrix.jpg\" style=\"width:200px;height:80px\"/>"
   ]
  }
 ],
 "metadata": {
  "kernelspec": {
   "display_name": "Python 3",
   "language": "python",
   "name": "python3"
  },
  "language_info": {
   "codemirror_mode": {
    "name": "ipython",
    "version": 3
   },
   "file_extension": ".py",
   "mimetype": "text/x-python",
   "name": "python",
   "nbconvert_exporter": "python",
   "pygments_lexer": "ipython3",
   "version": "3.6.4"
  }
 },
 "nbformat": 4,
 "nbformat_minor": 2
}
